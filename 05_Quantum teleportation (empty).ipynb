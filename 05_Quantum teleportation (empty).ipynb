{
 "cells": [
  {
   "cell_type": "markdown",
   "metadata": {},
   "source": [
    "# Quantum teleportation "
   ]
  },
  {
   "cell_type": "markdown",
   "metadata": {},
   "source": [
    "In this notebook we will test quantum teleportation. In the setup there are two parties, Alice and Bob, who share an entangled state, let us say $|\\Phi^+\\rangle$ at the beginning. Then Bob travels with his part of the state to the GFFA (galaxy far, far away). After he arrives, Alice decides to send him a quantum state $|\\mu\\rangle$ (in our case randomly chosen state). She performs a measurement on her side and sends the outcomes she gets (2 bits of information) to Bob. Bob, based on this information then recreates the state on his side.\n",
    "\n",
    "Important message is that after Alice decides to send the message to Bob, the only information transferred are the two bits. Otherwise there is only the shared entangled state. Notice, how no information about the state is sent between Alice and Bob! This is one of the most important messages in this course."
   ]
  },
  {
   "cell_type": "markdown",
   "metadata": {},
   "source": [
    "## Initial settings"
   ]
  },
  {
   "cell_type": "code",
   "execution_count": null,
   "metadata": {},
   "outputs": [],
   "source": [
    "import qiskit\n",
    "from qiskit.visualization import plot_bloch_multivector, plot_histogram\n",
    "from math import sin, cos, pi, sqrt\n",
    "from random import random"
   ]
  },
  {
   "cell_type": "markdown",
   "metadata": {},
   "source": [
    "We will standardly for the teleportation need a quantum register with 3 qubits: first is reserved for the unknown state and the other two are for the shared entangled state between Alice and Bob, with Alice's qubit being the second one and Bob's the third one."
   ]
  },
  {
   "cell_type": "code",
   "execution_count": null,
   "metadata": {},
   "outputs": [],
   "source": [
    "qreg = qiskit.QuantumRegister(3)\n",
    "\n",
    "# We will use three separate classical registers (bits)\n",
    "# for the two bits of information Alice sends to Bob\n",
    "# and the third for potential measurement of Bob\n",
    "cregx = qiskit.ClassicalRegister(1, name=\"condX\")\n",
    "cregz = qiskit.ClassicalRegister(1, name=\"condZ\")\n",
    "cregbob = qiskit.ClassicalRegister(1, name=\"bob\")"
   ]
  },
  {
   "cell_type": "markdown",
   "metadata": {},
   "source": [
    "We will use both QASM simulator when we will try different random states and state vector simulator for direct comparison of sent and received state."
   ]
  },
  {
   "cell_type": "code",
   "execution_count": null,
   "metadata": {},
   "outputs": [],
   "source": [
    "qasm = qiskit.Aer.get_backend(\"qasm_simulator\")\n",
    "statevector = qiskit.Aer.get_backend(\"statevector_simulator\")"
   ]
  },
  {
   "cell_type": "markdown",
   "metadata": {},
   "source": [
    "## Bits and pieces of circuits we will use "
   ]
  },
  {
   "cell_type": "markdown",
   "metadata": {},
   "source": [
    "In the following part we will prepare small circuit snippets that will be used to perform a specific task of the teleportation process."
   ]
  },
  {
   "cell_type": "markdown",
   "metadata": {},
   "source": [
    "### Random state preparator"
   ]
  },
  {
   "cell_type": "markdown",
   "metadata": {},
   "source": [
    "We want to prepare a function that will prepare a circuit snippet that prepares a random state on the first qubit. We shall use $U_3$ unitary with randomly chosen angles $\\theta$, $\\phi$ and $\\lambda$. As we intend to test the correctness of the teleportation, the function will return the angles as well."
   ]
  },
  {
   "cell_type": "code",
   "execution_count": null,
   "metadata": {},
   "outputs": [],
   "source": [
    "def random_state(qreg, a = 0):\n",
    "    # Choose the angles randomly\n",
    "    theta = 2*pi*random()\n",
    "    phi = 2*pi*random()\n",
    "    lam = 2*pi*random()\n",
    "    \n",
    "    # Composing the circuit\n",
    "    circuit = qiskit.QuantumCircuit(qreg)\n",
    "    circuit.u(theta, phi, lam, a)\n",
    "    circuit.barrier()\n",
    "    \n",
    "    return circuit, (theta, phi, lam)\n",
    "\n",
    "random_state(qreg, 1)[0].draw(output=\"mpl\")"
   ]
  },
  {
   "cell_type": "markdown",
   "metadata": {},
   "source": [
    "### Preparation of $|\\Phi^+\\rangle$ state "
   ]
  },
  {
   "cell_type": "markdown",
   "metadata": {},
   "source": [
    "We have done this in the previous notebooks. Here we will just recreate the function. Optional parameters `a` and `b` determine qubits between which the entanglement is created. Initial values are `a=0` and `b=1`."
   ]
  },
  {
   "cell_type": "code",
   "execution_count": null,
   "metadata": {},
   "outputs": [],
   "source": [
    "def phi_plus(qreg, a=0, b=1):\n",
    "    circuit = qiskit.QuantumCircuit(qreg)\n",
    "    circuit.h(a)\n",
    "    circuit.cx(qreg[a], qreg[b])\n",
    "    circuit.barrier()\n",
    "    \n",
    "    return circuit\n",
    "\n",
    "phi_plus(qreg, 0, 2).draw(output=\"mpl\")"
   ]
  },
  {
   "cell_type": "markdown",
   "metadata": {},
   "source": [
    "### Bell measurement "
   ]
  },
  {
   "cell_type": "markdown",
   "metadata": {},
   "source": [
    "To perform measurement (on qubits `a` and `b`) we need to change the basis to the *z*-basis. To do this we will do the opposite as was done in Bell states creation - we will undo the entanglement from the states. We utilze the scheme, where the Bell states are created from standard basis by one Hadamard application followed by CNOT. To undo this, we just apply these reversely (normally reversely apply conjugate transposed gates). That is, we first apply CNOT between 1st and 2nd qubits and then apply $H$ on the first qubit. Afterwards the measurement in the standard basis tells us which Bell state we measured:"
   ]
  },
  {
   "cell_type": "code",
   "execution_count": null,
   "metadata": {},
   "outputs": [],
   "source": [
    "def bell_measure(qreg, cregx, cregz, a=0, b=1):\n",
    "    circuit = qiskit.QuantumCircuit(qreg, cregx, cregz)\n",
    "    \n",
    "    # Operations on the two qubits\n",
    "    circuit.cx(a, b)\n",
    "    circuit.h(a)\n",
    "    \n",
    "    # Measurement\n",
    "    circuit.measure(a, cregz)\n",
    "    circuit.measure(b, cregx)\n",
    "    \n",
    "    circuit.barrier()\n",
    "    \n",
    "    return circuit\n",
    "\n",
    "bell_measure(qreg, cregx, cregz, 1, 2).draw(output=\"mpl\")"
   ]
  },
  {
   "cell_type": "markdown",
   "metadata": {},
   "source": [
    "### Bob's measurement"
   ]
  },
  {
   "cell_type": "markdown",
   "metadata": {},
   "source": [
    "While Bob just recieves the state and \"corrects\" it based on the information sent by Alice, we want to compare this state to the original one that Alice had before. We will therefore \"send\" also the information about created state and undo the $U_3$ gate applied during the creation of $|\\mu\\rangle$. If the trasferred state is the same as Alice was sending, unding the $U_3$ has to yield state $|0\\rangle$."
   ]
  },
  {
   "cell_type": "markdown",
   "metadata": {},
   "source": [
    "In below we just prepare the measurement Bob will perform on his qubit."
   ]
  },
  {
   "cell_type": "code",
   "execution_count": null,
   "metadata": {},
   "outputs": [],
   "source": [
    "M = qiskit.QuantumCircuit(qreg, cregbob)\n",
    "M.measure(2, 0)\n",
    "\n",
    "M.draw(output=\"mpl\")"
   ]
  },
  {
   "cell_type": "markdown",
   "metadata": {},
   "source": [
    "### Teleportation circuit"
   ]
  },
  {
   "cell_type": "markdown",
   "metadata": {},
   "source": [
    "Fianlly we have all the necessary building blocks for the creation of the teleportation circuit. Now the algorithm is as follows:\n",
    "1. Create entangled state $|\\Phi^+\\rangle$ between Alice and Bob. (After this step Alice and Bob can get far away)\n",
    "2. Prepare a random state on the side of Alice.\n",
    "3. Let Alice perform Bell measurement on her two qubits and send this information to Bob.\n",
    "4. Bob, conditioned on the outcome of Alice's measurement changes makes appropriate changes to his state:\n",
    "   - If Alice sends `1` in `cregx` register, Bob applies $\\sigma_x$ gate,\n",
    "   - If Alice sends `1` in `cregz` register, Bob applies $\\sigma_z$ gate.\n",
    "\n",
    "The following circuit has these four steps separated by barriers.\n",
    "\n",
    "*Note (remember the Qiskit speciality): When alice is sending classical bits `c[0]` and `c[1]`, she is sending a register which has a reversed order. That is `c[0]` is the right bit, while `c[1]` is the left bit. This is employed in order to have the least significant bit be `c[0]`.*"
   ]
  },
  {
   "cell_type": "markdown",
   "metadata": {},
   "source": [
    "**Task 10.1:** Fill in the missing parts to create the teleportation circuit."
   ]
  },
  {
   "cell_type": "code",
   "execution_count": null,
   "metadata": {},
   "outputs": [],
   "source": [
    "def teleport_state(state, qreg, cregx, cregz, cregbob):\n",
    "    teleport = qiskit.QuantumCircuit(qreg, cregx, cregz, cregbob)\n",
    "    \n",
    "    \"\"\"\n",
    "    Prepare a circuit that would perform teleportation\n",
    "    of a random state.\n",
    "    \n",
    "    You can use conditional state change:\n",
    "    teleport.y(2).c_if(creg, 0)\n",
    "    The second argument in c_if defines the value \n",
    "    of the whole classical register on which\n",
    "    the application of y(2) is conditioned.\n",
    "    \"\"\"\n",
    "    \n",
    "    \n",
    "    return teleport"
   ]
  },
  {
   "cell_type": "markdown",
   "metadata": {},
   "source": [
    "Let's draw the full teleportation circuit with some random state for Alice to send."
   ]
  },
  {
   "cell_type": "code",
   "execution_count": null,
   "metadata": {
    "scrolled": false
   },
   "outputs": [],
   "source": [
    "teleport_state(random_state(qreg)[0], qreg, cregx, cregz, cregbob).draw(output=\"mpl\")"
   ]
  },
  {
   "cell_type": "markdown",
   "metadata": {},
   "source": [
    "## Checking the teleportation success"
   ]
  },
  {
   "cell_type": "markdown",
   "metadata": {},
   "source": [
    "Now we shall check whether the teleportation circuit really does what it promises. We will perform several experiments. In each we shall choose random state, let's call him *Kirk*, to be teleported. In the end we let Bob inverse the gate that was used for preparation of this state and measure. The statistics from these measurements are written into `out` dictionary."
   ]
  },
  {
   "cell_type": "markdown",
   "metadata": {},
   "source": [
    "**Task 10.2:** Fill in the missing part that will allow you to determine whether Bob has the *Kirk* state that Alice was sending to him."
   ]
  },
  {
   "cell_type": "code",
   "execution_count": null,
   "metadata": {},
   "outputs": [],
   "source": [
    "runs = 1024\n",
    "out = {}\n",
    "\n",
    "for i in range(runs):\n",
    "    # Preparation of random state named Kirk \n",
    "    kirk, (theta, phi, lam) = random_state(qreg)\n",
    "    \n",
    "    # Preparing the teleportation circuit called Scotty\n",
    "    scotty = teleport_state(kirk, qreg, cregx, cregz, cregbob)\n",
    "    \n",
    "    # Bob undoes the state creation and applies measurement\n",
    "    \"\"\"\n",
    "    Fill in here what should be done in order to test\n",
    "    the function of teleportation circuit properly.\n",
    "    \"\"\"\n",
    "    "
   ]
  },
  {
   "cell_type": "code",
   "execution_count": null,
   "metadata": {},
   "outputs": [],
   "source": [
    "scotty.draw(output=\"mpl\")"
   ]
  },
  {
   "cell_type": "markdown",
   "metadata": {},
   "source": [
    "Note that now we have three separate classical (single bit) registers and the output will thuis have a different form:"
   ]
  },
  {
   "cell_type": "code",
   "execution_count": null,
   "metadata": {},
   "outputs": [],
   "source": [
    "print(out)"
   ]
  },
  {
   "cell_type": "markdown",
   "metadata": {},
   "source": [
    "Since we reverse the initialization of state $|\\mu\\rangle$ at the end, if the teleportation circuit works properly, Bob should always measure `0`."
   ]
  },
  {
   "cell_type": "code",
   "execution_count": null,
   "metadata": {},
   "outputs": [],
   "source": [
    "bob_out = {\"0\":sum(out[key] for key in out.keys() if key[0] == \"0\"),\n",
    "       \"1\":sum(out[key] for key in out.keys() if key[0] == \"1\")}\n",
    "print(bob_out)"
   ]
  },
  {
   "cell_type": "markdown",
   "metadata": {},
   "source": [
    "If Bob always measures `0`, then we can disregard his output and look only at Alice's outputs."
   ]
  },
  {
   "cell_type": "code",
   "execution_count": null,
   "metadata": {},
   "outputs": [],
   "source": [
    "alice_out = {\"\".join(key[1:]): item for key, item in out.items()}\n",
    "plot_histogram(alice_out)"
   ]
  },
  {
   "cell_type": "markdown",
   "metadata": {},
   "source": [
    "What we should see is that all four possibilities of bit combinations are roughly equally likely to be measured by Alice."
   ]
  },
  {
   "cell_type": "markdown",
   "metadata": {},
   "source": [
    "## On the importance of information from Alice"
   ]
  },
  {
   "cell_type": "markdown",
   "metadata": {},
   "source": [
    "In the teleportation protocol it is crutial that Alice sends the two bits she measured to Bob. We know that these two bits are random and so it might be assumed that the information about state $|\\mu\\rangle$ is at Bob's side. But that would be wrong to assume. It turns out that Bob's state indeed contains the information about the sent state, but he is unable to recover it without the bits from Alice.\n",
    "\n",
    "To show that, we can consider an uncomplete teleportation protocol in which Alice does not send the bits to Bob. We can show this using density matrices (and state vectors). Consider that Alice and Bob repeat the teleportation of some chosen state *Kirk* several number of times (`runs`). Without the bits from Alice, the state that Bob observes is an average state that is arriving to him. We shall check that this *average state* does not contain infromation about state $|\\mu\\rangle$."
   ]
  },
  {
   "cell_type": "markdown",
   "metadata": {},
   "source": [
    "**Task 10.3:** Complete the function that prepares `teleport` circuit which simulates teleportation without Alice sending her bits to Bob."
   ]
  },
  {
   "cell_type": "code",
   "execution_count": null,
   "metadata": {},
   "outputs": [],
   "source": [
    "def no_comm_teleport_state(state, qreg, cregx, cregz):\n",
    "    teleport = qiskit.QuantumCircuit(qreg, cregx, cregz)\n",
    "    \n",
    "    \"\"\"\n",
    "    Prepare a circuit that would perform teleportation\n",
    "    of a random state without Alice sending her bits.\n",
    "    \"\"\"\n",
    "    \n",
    "        \n",
    "    return teleport"
   ]
  },
  {
   "cell_type": "markdown",
   "metadata": {},
   "source": [
    "Using this function we can now look at two things. First we can look at the average state-vector that is sent to Bob. The less information it contains the shorter the state-vector should be."
   ]
  },
  {
   "cell_type": "code",
   "execution_count": null,
   "metadata": {},
   "outputs": [],
   "source": [
    "runs = 1024\n",
    "out = {}\n",
    "\n",
    "# We choose some random state outside the cycle\n",
    "kirk, _ = random_state(qreg)\n",
    "\n",
    "# Here we initialize a zero state vector density matrix\n",
    "sv = qiskit.quantum_info.DensityMatrix([[0., 0.], [0., 0.]])\n",
    "\n",
    "for i in range(runs):\n",
    "    teleport = no_comm_teleport_state(kirk, qreg, cregx, cregz)\n",
    "\n",
    "    # These commands execute a statevector computation\n",
    "    # The partial trace selects only Bob'b qubit\n",
    "    job = qiskit.execute(teleport, statevector)\n",
    "    sv += qiskit.quantum_info.partial_trace(job.result().get_statevector(), [0, 1])\n",
    "\n",
    "# Normalization\n",
    "sv /= runs\n",
    "\n",
    "plot_bloch_multivector(sv)"
   ]
  },
  {
   "cell_type": "code",
   "execution_count": null,
   "metadata": {},
   "outputs": [],
   "source": []
  }
 ],
 "metadata": {
  "kernelspec": {
   "display_name": "Python 3",
   "language": "python",
   "name": "python3"
  },
  "language_info": {
   "codemirror_mode": {
    "name": "ipython",
    "version": 3
   },
   "file_extension": ".py",
   "mimetype": "text/x-python",
   "name": "python",
   "nbconvert_exporter": "python",
   "pygments_lexer": "ipython3",
   "version": "3.9.7"
  }
 },
 "nbformat": 4,
 "nbformat_minor": 2
}
