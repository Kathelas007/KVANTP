{
 "cells": [
  {
   "cell_type": "markdown",
   "metadata": {},
   "source": [
    "# Oracular algorithms: Deutsch-Jozsa & Bernstein-Vazirani"
   ]
  },
  {
   "cell_type": "markdown",
   "metadata": {},
   "source": [
    "Oracular problems are useful concept in complexity theory. We will be interested in using them to compare speeds of classical and quantum algorithms for the same problem. We will consider both Deutsch-Jozsa algorithm (1992) and Bernstein-Vazirani algorithm (1997) which show that in some particular cases, quantum algorithms can be much faster then the best classical ones. Tshow this we will first have a look at oracles."
   ]
  },
  {
   "cell_type": "code",
   "execution_count": 75,
   "metadata": {},
   "outputs": [],
   "source": [
    "import qiskit\n",
    "from qiskit.visualization import plot_histogram, plot_bloch_multivector\n",
    "from random import randint\n",
    "from math import pi\n",
    "\n",
    "dim = 4\n",
    "## You can use qreg and creg as global variables\n",
    "qreg = qiskit.QuantumRegister(dim + 1)\n",
    "creg = qiskit.ClassicalRegister(dim)\n",
    "\n",
    "simulator = qiskit.Aer.get_backend(\"qasm_simulator\")\n",
    "statevector = qiskit.Aer.get_backend('statevector_simulator')"
   ]
  },
  {
   "cell_type": "markdown",
   "metadata": {},
   "source": [
    "## Oracle"
   ]
  },
  {
   "cell_type": "markdown",
   "metadata": {},
   "source": [
    "Oracles are widely used abstract concepts that can be used to test the validity of our algorithms - allowing them to have some powerful property (possibly breaking achievable bounds) we can have a look how our algorithms stand against such changes. On the other hand, oracles can be also considered as black boxes performing computations that are unavailable to us and might be running for considerable times. There is, naturally a good overlap of the two views, but we will be focussing on the latter.\n",
    "\n",
    "For us an oracle is an unknown function $f$. In this notebook we will deal only with Boolean functions which map\n",
    "$$ f: \\{1, 2,\\ldots, N\\} \\to \\{0, 1\\}. $$\n",
    "Our tasks are to estimate some of its properties in the least number of calls to $f$.\n",
    "\n",
    "In the *Bernstein-Vazirani* setting we are considering a class of Boolean functions:\n",
    "$$ f_s(x) = s \\cdot x \\mod 2, $$\n",
    "where symbol $\\cdot$ represents bitwise product. Our task is to find the $s$ with the number of calls to $f$ being minimal. The size of the domain will be $N = 2^d$, where $d$ will be the number of bits or qubits.\n",
    "\n",
    "**In the classical case** we need to find $d$ bits of $s$ and for that we need (at least) $d$ queries to the oracle. Namely we can \"ask\" what is the $j$-th bit of $s$ by inputing $x = 2^j$.\n",
    "\n",
    "**In the quantum case** we first need to adapt the oracle to the quantum environment, but afterwards, only one query to the (quantum) oracle is enough to find $s$. Let us first turn our attention toi the quantum oracle $U_f$."
   ]
  },
  {
   "cell_type": "markdown",
   "metadata": {},
   "source": [
    "Before going further let us define few useful transformation functions:"
   ]
  },
  {
   "cell_type": "code",
   "execution_count": 76,
   "metadata": {},
   "outputs": [],
   "source": [
    "def bin_str(num, dim=0):\n",
    "    \"\"\"\n",
    "    Returns binary representation of num (int) as a string with optional\n",
    "    parameter dim to fill with zeroes from left up to length dim.\n",
    "    \"\"\"\n",
    "    return f\"{num:0{dim}b}\"\n",
    "\n",
    "def bin_digits(num, dim=0):\n",
    "    \"\"\"\n",
    "    Returns binary representation of num (int) as a list of ints with optional\n",
    "    parameter dim to fill with zeroes from left up to length dim.\n",
    "    \"\"\"\n",
    "    return [int(c) for c in bin_str(num, dim)]"
   ]
  },
  {
   "cell_type": "markdown",
   "metadata": {},
   "source": [
    "### Quantum oracle"
   ]
  },
  {
   "cell_type": "markdown",
   "metadata": {},
   "source": [
    "We already know that quantum evolutions (and thus computation) has to be a reversible process. To be able to do that, it is enough to add additional system that will hold the computed information. Standard way of defining such quantum oracle is\n",
    "$$ U_f|x\\rangle\\otimes|m\\rangle = |x\\rangle\\otimes|m \\oplus f(x)\\rangle. $$\n",
    "Where the second system is of appropriate dimension and $|m\\rangle$ is some state of this system. Naturally, this oracle possesses no more information than $f$ does, but its ability to act on quantum systems (and superpositions in particular) makes the difference.\n",
    "\n",
    "For boolean functions the second system is just an additional qubit. In many algorithms it is favorable to make the action of the oracle affect the phase (as phases are very good in eliminating unfavorable results) in front of selected states. Very often this desired action is\n",
    "$$ R_f|x\\rangle = (-1)^{f(x)}|x\\rangle. $$\n",
    "This does not seem to be much but when considering superpositions it has consequences. For example a single qubit identity function acting on states $|0\\rangle$ or $|1\\rangle$ does nothing (except adding a phase in front of $|1\\rangle$) but it changes state $|+\\rangle$ to $|-\\rangle$. Indeed\n",
    "$$ R_f\\frac{1}{\\sqrt{2}}(|0\\rangle + |1\\rangle) = \\frac{1}{\\sqrt{2}}\\left[(-1)^{f(0)}|0\\rangle + (-1)^{f(1)}|1\\rangle\\right]\n",
    "=\\frac{1}{\\sqrt{2}}(|0\\rangle -|1\\rangle) = |-\\rangle.$$\n",
    "\n",
    "How to achieve this functioning of the quantum oracle $R_f$ using the quantum oracle $U_f$? It is simple when you start with $|m\\rangle = |-\\rangle$."
   ]
  },
  {
   "cell_type": "markdown",
   "metadata": {},
   "source": [
    "**Task 10.1**: Using previous description define a Bernstein-Vazirani oracle (method `qoracle()`). We want it to act as\n",
    "$$ U_s|x\\rangle = (-1)^{s\\cdot x \\mod 2}|x\\rangle. $$\n",
    "To achieve this, you need to\n",
    "- make use of the additional qubit as described above,\n",
    "- find a way of computing $s\\cdot x\\mod 2$ on this qubit - you do not need more than a few CNOT gates,\n",
    "- return the state of the additional qubit to the state $|0\\rangle$"
   ]
  },
  {
   "cell_type": "code",
   "execution_count": 77,
   "metadata": {},
   "outputs": [],
   "source": [
    "class BVoracle:\n",
    "    \"\"\"\n",
    "    Implements Bernstein-Vazirani oracle\n",
    "    \n",
    "    Attributes\n",
    "    ----------\n",
    "    dim: int\n",
    "        number of (qu)bits that are used\n",
    "    ccalls: int\n",
    "        number of calls performed on the classical oracle\n",
    "    qcalls: int\n",
    "        number of calls performed on the quantum oracle\n",
    "        \n",
    "    Methods\n",
    "    -------\n",
    "    get(x)\n",
    "        returns x.s mod 2\n",
    "    qoracle(qreg)\n",
    "        returns the oracle circuit on qreg\n",
    "    creset()\n",
    "        resets the count of ccalls\n",
    "    qreset()\n",
    "        resets the count of qcalls\n",
    "    \"\"\"\n",
    "    \n",
    "    def __init__(self, dim, num=None):\n",
    "        \"\"\"\n",
    "        Parameters\n",
    "        ----------\n",
    "        dim: int\n",
    "            number of (qu)bits that are used\n",
    "        num: Optional[int]\n",
    "            initializes s = num, otherwise s is chosen randomly\n",
    "        \"\"\"\n",
    "        if num == None:\n",
    "            num = randint(0, 2 ** dim - 1)\n",
    "        ## Private attribute only God knows\n",
    "        self._num = num\n",
    "        self.dim = dim\n",
    "        self.ccalls = 0\n",
    "        self.qcalls = 0\n",
    "        \n",
    "    def get(self, x):\n",
    "        \"\"\"\n",
    "        returns f(x)\n",
    "        \n",
    "        Parameters\n",
    "        ----------\n",
    "        x: List[int]\n",
    "            evaluated input value for the f(x)\n",
    "        \"\"\"\n",
    "        assert len(x) == self.dim\n",
    "        ## ccalls increases every time one queries the oracle\n",
    "        self.ccalls += 1\n",
    "        res = 0\n",
    "        s = bin_digits(self._num, self.dim)\n",
    "        for i in range(self.dim):\n",
    "            res += x[i] * s[i]\n",
    "        return res % 2\n",
    "    \n",
    "    ## Assuming that when one calls the qoracle to be created\n",
    "    ## dim is correctly stated\n",
    "    def qoracle(self, qreg):\n",
    "        \"\"\"\n",
    "        returns Qiskit circuit representing quantum oracle\n",
    "        \n",
    "        Parameters\n",
    "        ----------\n",
    "        qreg:\n",
    "            qiskit quantum register\n",
    "        \"\"\"\n",
    "        \n",
    "        ## qcalls increases every time one queries the oracle\n",
    "        self.qcalls += 1\n",
    "        oracle = qiskit.QuantumCircuit(qreg)\n",
    "        \n",
    "        ## Write here your code for the BV quantum oracle.\n",
    "        ## As a hint you need to\n",
    "        ## 1. prepare the additional qubit as described above,\n",
    "        oracle.x(self.dim)\n",
    "        oracle.h(self.dim)\n",
    "\n",
    "        ## 2. compute s.x mod 2 on this qubit\n",
    "        for i, c in enumerate(bin_digits(self._num)):\n",
    "            if c:\n",
    "                oracle.cx(self.dim - i - 1, self.dim)\n",
    "\n",
    "        ## 3. return the state of the additional qubit to the state |0>\n",
    "        oracle.h(self.dim)\n",
    "        oracle.x(self.dim)\n",
    "\n",
    "        return oracle\n",
    "    \n",
    "    def creset(self):\n",
    "        \"\"\"\n",
    "        resets the count of ccalls\n",
    "        \"\"\"\n",
    "        self.ccalls = 0\n",
    "        \n",
    "    def qreset(self):\n",
    "        \"\"\"\n",
    "        resets the count of qcalls\n",
    "        \"\"\"\n",
    "        self.qcalls = 0"
   ]
  },
  {
   "cell_type": "markdown",
   "metadata": {},
   "source": [
    "Let us test the classical oracle first."
   ]
  },
  {
   "cell_type": "markdown",
   "metadata": {},
   "source": [
    "**Task 10.2:** Write a function that finds $s$ of the Bernstein-Vazirani (classical) oracle `bv` passed as an argument of the function."
   ]
  },
  {
   "cell_type": "code",
   "execution_count": 78,
   "metadata": {},
   "outputs": [],
   "source": [
    "def classical(bv):\n",
    "    b = \"\"\n",
    "    for num in range(bv.dim):\n",
    "        x = bin_digits(2 ** num, bv.dim)\n",
    "        b += str(bv.get(x))\n",
    "    return b[::-1]"
   ]
  },
  {
   "cell_type": "markdown",
   "metadata": {},
   "source": [
    "Let us initialize the oracle first."
   ]
  },
  {
   "cell_type": "code",
   "execution_count": 79,
   "metadata": {},
   "outputs": [],
   "source": [
    "bv = BVoracle(dim)"
   ]
  },
  {
   "cell_type": "markdown",
   "metadata": {},
   "source": [
    "These are the results of the classical querying:"
   ]
  },
  {
   "cell_type": "code",
   "execution_count": 80,
   "metadata": {},
   "outputs": [
    {
     "name": "stdout",
     "output_type": "stream",
     "text": [
      "The oracle was initialized with bit string s = \"0001\" [This information is not available to us in general]\n",
      "Your algorithm has found s = \"0001\"\n",
      "Classical oracle was called 4 times.\n"
     ]
    }
   ],
   "source": [
    "bv.creset()\n",
    "print(f\"The oracle was initialized with bit string s = \\\"{bin_str(bv._num, bv.dim)}\\\" [This information is not available to us in general]\")\n",
    "print(f\"Your algorithm has found s = \\\"{classical(bv)}\\\"\")\n",
    "print(f\"Classical oracle was called {bv.ccalls} times.\")"
   ]
  },
  {
   "cell_type": "markdown",
   "metadata": {},
   "source": [
    "## Bernstein-Vazirani algorithm"
   ]
  },
  {
   "cell_type": "markdown",
   "metadata": {},
   "source": [
    "For the quantum oracle we need to prepare a larger circuit first. The circuit is, however, rather simple. We just need to:\n",
    "1. Prepare a complete superposition of all states\n",
    "$$ |\\psi\\rangle = \\frac{1}{\\sqrt{2^d}}\\sum_{j=0}^{2^d-1}|j\\rangle,$$\n",
    "2. Apply the Bernstein-Vazirani oracle on this state,\n",
    "3. Use the reverse transformation to the one from point 1,\n",
    "4. Measure the system and return the outcome as a guess of $s$."
   ]
  },
  {
   "cell_type": "markdown",
   "metadata": {},
   "source": [
    "**Task 10.3:** Prepare the full Bernstein-Vazirani circuit as defined above."
   ]
  },
  {
   "cell_type": "code",
   "execution_count": 81,
   "metadata": {},
   "outputs": [],
   "source": [
    "def quantum(bv):\n",
    "    circ = qiskit.QuantumCircuit(qreg, creg)\n",
    "\n",
    "    ## Prepare the full Bernstein-Vazirani circuit as defined above.\n",
    "    ## Use the following steps:\n",
    "\n",
    "    ## 1. Prepare a complete superposition of all states\n",
    "    for i in range(bv.dim):\n",
    "        circ.h(i)\n",
    "        \n",
    "    circ.barrier()\n",
    "\n",
    "    ## 2. Apply the Bernstein-Vazirani oracle \"bv\" on this state,\n",
    "    circ += bv.qoracle(qreg)\n",
    "\n",
    "    circ.barrier()\n",
    "    \n",
    "    ## 3. Use the reverse transformation to the one from point 1\n",
    "    for i in range(bv.dim):\n",
    "        circ.h(i)\n",
    "\n",
    "    ## 4. Measure the system (the outcome shall correspond to s).\n",
    "    for i in range(bv.dim):\n",
    "        circ.measure(i, i)\n",
    "\n",
    "    job = qiskit.execute(circ, simulator, shots=1)\n",
    "    return list(job.result().get_counts().keys())[0], circ"
   ]
  },
  {
   "cell_type": "markdown",
   "metadata": {},
   "source": [
    "These are the results of the quantum querying:"
   ]
  },
  {
   "cell_type": "code",
   "execution_count": 82,
   "metadata": {},
   "outputs": [
    {
     "name": "stdout",
     "output_type": "stream",
     "text": [
      "The oracle was initialized with bit string s = \"0001\" [This information is not available to us in general]\n",
      "Your algorithm has found s = \"1000\"\n",
      "Quantum oracle was called 1 time.\n"
     ]
    },
    {
     "data": {
      "image/png": "[encoded data removed]",
      "text/plain": [
       "<Figure size 935.264x385.28 with 1 Axes>"
      ]
     },
     "execution_count": 82,
     "metadata": {},
     "output_type": "execute_result"
    }
   ],
   "source": [
    "bv.qreset()\n",
    "guess, circ = quantum(bv)\n",
    "print(f\"The oracle was initialized with bit string s = \\\"{bin_str(bv._num, bv.dim)}\\\" [This information is not available to us in general]\")\n",
    "print(f\"Your algorithm has found s = \\\"{guess}\\\"\")\n",
    "print(f\"Quantum oracle was called {bv.qcalls} time.\")\n",
    "circ.draw(output=\"mpl\")"
   ]
  },
  {
   "cell_type": "markdown",
   "metadata": {},
   "source": [
    "## Deutsch-Jozsa"
   ]
  },
  {
   "cell_type": "markdown",
   "metadata": {},
   "source": [
    "Deutsch-Jozsa is a variant of Bernstein-Vazirani algorithm. Whereas in BV algorithm we were guessing the oracle parameter $s$, in Deutsch-JOzsa algorithm we are promissed that the function $f$ is one of two kinds:\n",
    "- *balanced:* returns `0` for exactly half of inputs and `1` for the other half\n",
    "- *constant:* always returns either `0` or `1`\n",
    "\n",
    "The algorithm is the same as in Bernstein-Vazirani, and what changes is the oracle and the outputs interpretation:\n",
    "- for constant function the evolution leads back to state $|00\\ldots 0\\rangle$\n",
    "- for balanced function there will be always at least one `1` present in the output."
   ]
  },
  {
   "cell_type": "markdown",
   "metadata": {},
   "source": [
    "For example DJ oracle can be following (this is one of many ways of defining it). It is based on the Nernstein-Vazirani oracle with some changes. Firstly, we have a switch `balanced` which, if not provided, will be chosen randomly."
   ]
  },
  {
   "cell_type": "code",
   "execution_count": 27,
   "metadata": {},
   "outputs": [],
   "source": [
    "class DJoracle(BVoracle):\n",
    "    \"\"\"\n",
    "    Implements Deursch-Jozsa oracle\n",
    "    \n",
    "    Attributes\n",
    "    ----------\n",
    "    dim: int\n",
    "        number of (qu)bits that are used\n",
    "    ccalls: int\n",
    "        number of calls performed on the classical oracle\n",
    "    qcalls: int\n",
    "        number of calls performed on the quantum oracle\n",
    "        \n",
    "    Methods\n",
    "    -------\n",
    "    get(x)\n",
    "        returns x.s mod 2\n",
    "    qoracle(qreg)\n",
    "        returns the oracle circuit on qreg\n",
    "    creset()\n",
    "        resets the count of ccalls\n",
    "    qreset()\n",
    "        resets the count of qcalls\n",
    "    \"\"\"\n",
    "    def __init__(self, dim, balanced=None):\n",
    "        \"\"\"\n",
    "        Parameters\n",
    "        ----------\n",
    "        dim: int\n",
    "            number of (qu)bits that are used\n",
    "        balanced: Optional[bool]\n",
    "            initializes either constant (0) or balanced (1) function\n",
    "        \"\"\"\n",
    "        if balanced == None:\n",
    "            balanced = randint(0, 1)\n",
    "        ## Private attribute only God knows\n",
    "        self._balanced = balanced\n",
    "        self.ccalls = 0\n",
    "        self.qcalls = 0\n",
    "        self.dim = dim\n",
    "        ## Randomly chooses variant\n",
    "        ## (selects only from a subset of possibilities)\n",
    "        ##  - _num acts in the same way as in the BVoracle\n",
    "        ##  - _seed defines post-processing action on the\n",
    "        ##    additional qubit (in constant case it defines\n",
    "        ##    the value the function f returns)\n",
    "        if balanced: # balanced\n",
    "            self._num = randint(1, 2 ** dim - 1)\n",
    "            self._seed = 0\n",
    "        else: # constant\n",
    "            self._num = 0\n",
    "            self._seed = randint(0, 1)\n",
    "        \n",
    "    def get(self, x):\n",
    "        \"\"\"\n",
    "        returns x.s mod 2\n",
    "        \n",
    "        Parameters\n",
    "        ----------\n",
    "        x: int\n",
    "            evaluated input value for the f(x)\n",
    "        \"\"\"\n",
    "        self.ccalls += 1\n",
    "        res = 0\n",
    "        s = bin_digits(self._num, self.dim)\n",
    "        for i in range(self.dim):\n",
    "            res += x[i] * s[i]\n",
    "        return (res + self._seed) % 2\n",
    "    \n",
    "    ## Assuming that when one calls the qoracle to be created\n",
    "    ## dim is correctly stated\n",
    "    def qoracle(self, qreg):\n",
    "        \"\"\"\n",
    "        returns Qiskit circuit representing quantum oracle\n",
    "        \n",
    "        Parameters\n",
    "        ----------\n",
    "        qreg:\n",
    "            qiskit quantum register\n",
    "        \"\"\"\n",
    "        \n",
    "        ## qcalls increases every time one queries the oracle\n",
    "        self.qcalls += 1\n",
    "        oracle = qiskit.QuantumCircuit(qreg)\n",
    "        \n",
    "        oracle.x(self.dim)\n",
    "        oracle.h(self.dim)\n",
    "\n",
    "        for i, c in enumerate(bin_digits(self._num, dim)):\n",
    "            if c:\n",
    "                oracle.cx(self.dim - i - 1, self.dim)\n",
    "                \n",
    "        if self._seed:\n",
    "            oracle.x(dim)\n",
    "\n",
    "        oracle.h(self.dim)\n",
    "        oracle.x(self.dim)\n",
    "\n",
    "        return oracle\n",
    "    \n",
    "    def creset(self):\n",
    "        \"\"\"\n",
    "        resets the count of ccalls\n",
    "        \"\"\"\n",
    "        self.ccalls = 0\n",
    "        \n",
    "    def qreset(self):\n",
    "        \"\"\"\n",
    "        resets the count of qcalls\n",
    "        \"\"\"\n",
    "        self.qcalls = 0"
   ]
  },
  {
   "cell_type": "markdown",
   "metadata": {},
   "source": [
    "**Task 10.4:** define a classical procedure querying the oracle in as few steps as possible and finding whether $f$ is constant (`0`) or balanced (`1`)."
   ]
  },
  {
   "cell_type": "code",
   "execution_count": 28,
   "metadata": {},
   "outputs": [],
   "source": [
    "def cevaluate(dj):\n",
    "    ## Write a function that classically (using get) determines\n",
    "    ##  - if the oracle dj is constant and returns 0\n",
    "    ##  - if the oracle dj in balanced and returns 1\n",
    "    zeros = 0\n",
    "    total = 0\n",
    "    for x in range(2 ** dj.dim):\n",
    "        out = dj.get(bin_digits(x, dj.dim))\n",
    "        \n",
    "        if out == 0:\n",
    "            zeros += 1\n",
    "        total += 1\n",
    "\n",
    "        ## If we find at least one different digit,\n",
    "        ## the function must be balanced\n",
    "        if zeros != 0 and zeros != total:\n",
    "            return 1\n",
    "\n",
    "        ## If we have found more than half of total\n",
    "        ## inputs leading to the same outcome\n",
    "        ## the function must be constant\n",
    "        if total > 2 ** (dj.dim - 1):\n",
    "            return 0\n",
    "        \n"
   ]
  },
  {
   "cell_type": "markdown",
   "metadata": {},
   "source": [
    "These are the results of the classical querying:"
   ]
  },
  {
   "cell_type": "code",
   "execution_count": 87,
   "metadata": {},
   "outputs": [
    {
     "name": "stdout",
     "output_type": "stream",
     "text": [
      "You correctly guessed the function type in 100.0% of runs\n",
      "The average number of oracle calls was 6.17\n"
     ]
    }
   ],
   "source": [
    "runs = 1000\n",
    "correct = 0\n",
    "calls = 0\n",
    "for _ in range(runs):\n",
    "    dj = DJoracle(dim)\n",
    "    if cevaluate(dj) == dj._balanced:\n",
    "        correct += 1\n",
    "    calls += dj.ccalls\n",
    "print(f\"You correctly guessed the function type in {100 * correct / runs}% of runs\")\n",
    "print(f\"The average number of oracle calls was {calls / runs:.2f}\")"
   ]
  },
  {
   "cell_type": "markdown",
   "metadata": {},
   "source": [
    "**Task 10.5:** program a quantum procedure querying the oracle once to find whether $f$ is constant (`0`) or balanced (`1`)."
   ]
  },
  {
   "cell_type": "code",
   "execution_count": 89,
   "metadata": {},
   "outputs": [],
   "source": [
    "def qevaluate(dj):\n",
    "    circ = qiskit.QuantumCircuit(qreg, creg)\n",
    "\n",
    "    ## Prepare the full Deutsch-Jozsa circuit as defined above.\n",
    "    ## Use the following steps:\n",
    "\n",
    "    ## 1. Prepare a complete superposition of all states\n",
    "    for i in range(dj.dim):\n",
    "        circ.h(i)\n",
    "        \n",
    "    circ.barrier()\n",
    "\n",
    "    ## 2. Apply the Bernstein-Vazirani oracle \"bv\" on this state,\n",
    "    circ += dj.qoracle(qreg)\n",
    "    \n",
    "    circ.barrier()\n",
    "\n",
    "    ## 3. Use the reverse transformation to the one from point 1\n",
    "    for i in range(dj.dim):\n",
    "        circ.h(i)\n",
    "\n",
    "    ## 4. Measure the system (the outcome containing 1 should be for balanced functions).\n",
    "    ## and deduce whether the function is constant (0) or balanced (1)\n",
    "    for i in range(dj.dim):\n",
    "        circ.measure(i, i)\n",
    "\n",
    "    job = qiskit.execute(circ, simulator, shots=1)\n",
    "        \n",
    "    if \"1\" in list(job.result().get_counts().keys())[0]:\n",
    "        return 1, circ\n",
    "    return 0, circ"
   ]
  },
  {
   "cell_type": "markdown",
   "metadata": {},
   "source": [
    "These are the results of the quantum querying:"
   ]
  },
  {
   "cell_type": "code",
   "execution_count": 90,
   "metadata": {},
   "outputs": [
    {
     "name": "stdout",
     "output_type": "stream",
     "text": [
      "You correctly guessed the function type in 100.0% of runs\n",
      "The average number of oracle calls was 1.00\n"
     ]
    }
   ],
   "source": [
    "runs = 1000\n",
    "correct = 0\n",
    "calls = 0\n",
    "for _ in range(runs):\n",
    "    d = DJoracle(dim)\n",
    "    if qevaluate(d)[0] == d._balanced:\n",
    "        correct += 1\n",
    "    calls += d.qcalls\n",
    "print(f\"You correctly guessed the function type in {100 * correct / runs}% of runs\")\n",
    "print(f\"The average number of oracle calls was {calls / runs:.2f}\")"
   ]
  },
  {
   "cell_type": "markdown",
   "metadata": {},
   "source": [
    "You should always get the correct result in one quantum oracle call.\n",
    "\n",
    "Now you can have a look at the circuit with constant oracle."
   ]
  },
  {
   "cell_type": "code",
   "execution_count": 91,
   "metadata": {},
   "outputs": [
    {
     "data": {
      "image/png": "[encoded data removed]",
      "text/plain": [
       "<Figure size 935.264x385.28 with 1 Axes>"
      ]
     },
     "execution_count": 91,
     "metadata": {},
     "output_type": "execute_result"
    }
   ],
   "source": [
    "qevaluate(DJoracle(dim, 0))[1].draw(output=\"mpl\")"
   ]
  },
  {
   "cell_type": "markdown",
   "metadata": {},
   "source": [
    "And here is the circuit with balanced oracle."
   ]
  },
  {
   "cell_type": "code",
   "execution_count": 33,
   "metadata": {},
   "outputs": [
    {
     "data": {
      "image/png": "[encoded data removed]",
      "text/plain": [
       "<Figure size 935.409x385.28 with 1 Axes>"
      ]
     },
     "execution_count": 33,
     "metadata": {},
     "output_type": "execute_result"
    }
   ],
   "source": [
    "qevaluate(DJoracle(dim, 1))[1].draw(output=\"mpl\")"
   ]
  },
  {
   "cell_type": "markdown",
   "metadata": {},
   "source": [
    "*Note: If you have done everything correctly, you should be able to guess everything correctly with 100%. While in quantum cases you always need only one step, in classical cases this number will be higher - `dim`-times in the BV case and for the DJ case roughly*"
   ]
  },
  {
   "cell_type": "code",
   "execution_count": 93,
   "metadata": {},
   "outputs": [
    {
     "name": "stdout",
     "output_type": "stream",
     "text": [
      "6.00-times\n"
     ]
    }
   ],
   "source": [
    "print(f\"{2 ** (dim - 2) + 2:.2f}-times\")"
   ]
  },
  {
   "cell_type": "code",
   "execution_count": null,
   "metadata": {},
   "outputs": [],
   "source": []
  }
 ],
 "metadata": {
  "kernelspec": {
   "display_name": "Python 3",
   "language": "python",
   "name": "python3"
  },
  "language_info": {
   "codemirror_mode": {
    "name": "ipython",
    "version": 3
   },
   "file_extension": ".py",
   "mimetype": "text/x-python",
   "name": "python",
   "nbconvert_exporter": "python",
   "pygments_lexer": "ipython3",
   "version": "3.9.7"
  }
 },
 "nbformat": 4,
 "nbformat_minor": 4
}
